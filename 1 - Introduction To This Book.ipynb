{
 "cells": [
  {
   "cell_type": "markdown",
   "id": "0f059f23",
   "metadata": {},
   "source": [
    "## 1.1 What is linear algebra and why learn it?"
   ]
  },
  {
   "cell_type": "markdown",
   "id": "c484494e",
   "metadata": {},
   "source": [
    "Linear algebra is the branch of mathematics concerned with vectors and matrices, their linear combinations, and operations act-\n",
    "ing upon them."
   ]
  },
  {
   "cell_type": "markdown",
   "id": "89553406",
   "metadata": {},
   "source": [
    "## 1.2 About this book"
   ]
  },
  {
   "cell_type": "markdown",
   "id": "d33dfcbf",
   "metadata": {},
   "source": [
    "The purpose of this book is to teach you how to think about and work with matrices, with an eye towards applications in machine\n",
    "learning, multivariate statistics, time series, and image processing."
   ]
  },
  {
   "cell_type": "markdown",
   "id": "1f88eeda",
   "metadata": {},
   "source": [
    "## 1.3 Prerequisites"
   ]
  },
  {
   "cell_type": "markdown",
   "id": "c84469fe",
   "metadata": {},
   "source": [
    "You need to be motivated to learn linear algebra. Linear algebra isn’t so difficult, but it’s also not so easy. An intention to learn applied linear algebra—and a willingness to expend mental energy towards that goal—is the single most important prerequisite. Everything below is minor in comparison."
   ]
  },
  {
   "cell_type": "markdown",
   "id": "386aef68",
   "metadata": {},
   "source": [
    "## 1.4 Practice, exercises and code challenges"
   ]
  },
  {
   "cell_type": "markdown",
   "id": "ecb483d0",
   "metadata": {},
   "source": [
    "Math is not a spectator sport. If you simply read this book without solving any problems, then sure, you’ll learn something and I hope you enjoy it. But to really understand linear algebra, you need to solve problems."
   ]
  },
  {
   "cell_type": "markdown",
   "id": "feb37976",
   "metadata": {},
   "source": [
    "## 1.5 Online and other resources"
   ]
  },
  {
   "cell_type": "markdown",
   "id": "ffd08f49",
   "metadata": {},
   "source": [
    "You can find a list of all my online courses at www.sincxpress.com."
   ]
  }
 ],
 "metadata": {
  "kernelspec": {
   "display_name": "Python 3 (ipykernel)",
   "language": "python",
   "name": "python3"
  },
  "language_info": {
   "codemirror_mode": {
    "name": "ipython",
    "version": 3
   },
   "file_extension": ".py",
   "mimetype": "text/x-python",
   "name": "python",
   "nbconvert_exporter": "python",
   "pygments_lexer": "ipython3",
   "version": "3.10.9"
  }
 },
 "nbformat": 4,
 "nbformat_minor": 5
}
